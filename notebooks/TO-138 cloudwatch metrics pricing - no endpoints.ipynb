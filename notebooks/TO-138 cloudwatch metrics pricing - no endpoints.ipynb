{
 "cells": [
  {
   "cell_type": "markdown",
   "metadata": {},
   "source": [
    "[Pricing information](https://aws.amazon.com/cloudwatch/pricing/):"
   ]
  },
  {
   "cell_type": "code",
   "execution_count": 1,
   "metadata": {},
   "outputs": [
    {
     "data": {
      "text/html": [
       "\r\n",
       "<div>\r\n",
       "    <div id='dotnet-interactive-this-cell-Microsoft.DotNet.Interactive.App.CommandLine.HttpPort' style='display: none'>\r\n",
       "        The below script needs to be able to find the current output cell; this is an easy method to get it.\r\n",
       "    </div>\r\n",
       "    <script type='text/javascript'>\r\n",
       "// ensure `requirejs` is available globally\r\n",
       "if (typeof requirejs !== typeof Function || typeof requirejs.config !== typeof Function) {\r\n",
       "    let requirejs_script = document.createElement('script');\r\n",
       "    requirejs_script.setAttribute('src', 'https://cdnjs.cloudflare.com/ajax/libs/require.js/2.3.6/require.min.js');\r\n",
       "    requirejs_script.setAttribute('type', 'text/javascript');\r\n",
       "    requirejs_script.onload = function () {\r\n",
       "        loadDotnetInteractiveApi();\r\n",
       "    };\r\n",
       "\r\n",
       "    document.getElementsByTagName('head')[0].appendChild(requirejs_script);\r\n",
       "}\r\n",
       "else {\r\n",
       "    loadDotnetInteractiveApi();\r\n",
       "}\r\n",
       "\r\n",
       "async function probeAddresses(probingAddresses) {\r\n",
       "    function timeout(ms, promise) {\r\n",
       "        return new Promise(function (resolve, reject) {\r\n",
       "            setTimeout(function () {\r\n",
       "                reject(new Error('timeout'))\r\n",
       "            }, ms)\r\n",
       "            promise.then(resolve, reject)\r\n",
       "        })\r\n",
       "    }\r\n",
       "\r\n",
       "    if (Array.isArray(probingAddresses)) {\r\n",
       "        for (let i = 0; i < probingAddresses.length; i++) {\r\n",
       "\r\n",
       "            let rootUrl = probingAddresses[i];\r\n",
       "\r\n",
       "            if (!rootUrl.endsWith('/')) {\r\n",
       "                rootUrl = `${rootUrl}/`;\r\n",
       "            }\r\n",
       "\r\n",
       "            try {\r\n",
       "                let response = await timeout(1000, fetch(`${rootUrl}discovery`, {\r\n",
       "                    method: 'POST',\r\n",
       "                    timeout: 1000,\r\n",
       "                    headers: {\r\n",
       "                        'Content-Type': 'text/plain'\r\n",
       "                    },\r\n",
       "                    body: probingAddresses[i]\r\n",
       "                }));\r\n",
       "\r\n",
       "                if (response.status == 200) {\r\n",
       "                    return rootUrl;\r\n",
       "                }\r\n",
       "            }\r\n",
       "            catch (e) { }\r\n",
       "        }\r\n",
       "    }\r\n",
       "}\r\n",
       "\r\n",
       "function loadDotnetInteractiveApi() {\r\n",
       "    probeAddresses([\"http://127.0.0.1:49178/\"])\r\n",
       "        .then((root) => {\r\n",
       "            // use probing to find host url and api resources\r\n",
       "            // load interactive helpers and language services\r\n",
       "            let dotnet_require = requirejs.config({\r\n",
       "                context: '220.Microsoft.DotNet.Interactive.App.CommandLine.HttpPort',\r\n",
       "                paths: {\r\n",
       "                    'dotnet-interactive': `${root}resources`\r\n",
       "                }\r\n",
       "            });\r\n",
       "            if (!window.dotnet_require) {\r\n",
       "                window.dotnet_require = dotnet_require;\r\n",
       "            }\r\n",
       "        \r\n",
       "            dotnet_require([\r\n",
       "                    'dotnet-interactive/dotnet-interactive',\r\n",
       "                    'dotnet-interactive/lsp',\r\n",
       "                    'dotnet-interactive/editor-detection'\r\n",
       "                ],\r\n",
       "                function (dotnet, lsp, editor) {\r\n",
       "                    dotnet.init(window);\r\n",
       "                    \r\n",
       "                },\r\n",
       "                function (error) {\r\n",
       "                    console.log(error);\r\n",
       "                }\r\n",
       "            );\r\n",
       "        })\r\n",
       "        .catch(error => {console.log(error);});\r\n",
       "    }\r\n",
       "    </script>\r\n",
       "</div>"
      ]
     },
     "metadata": {},
     "output_type": "display_data"
    }
   ],
   "source": [
    "static readonly (int count, double price)[] tiersCosts = {(10_000, 0.3), (240_000, 0.1), (750_000, 0.05), (-1, 0.02)};"
   ]
  },
  {
   "cell_type": "markdown",
   "metadata": {},
   "source": [
    "Method to calculate prices:"
   ]
  },
  {
   "cell_type": "code",
   "execution_count": 2,
   "metadata": {},
   "outputs": [],
   "source": [
    "static double CalculateCustomMetricsPrice(int metricsCount) =>\n",
    "    tiersCosts.Aggregate((count: metricsCount, price: 0d), (total, tier) => {        \n",
    "        var tierCount = tier.count > 0 ? Math.Min(tier.count, total.count) : total.count;\n",
    "        return (total.count - tierCount, total.price += tierCount * tier.price);\n",
    "    }).price;"
   ]
  },
  {
   "cell_type": "markdown",
   "metadata": {},
   "source": [
    "## Modify this values to change graph:"
   ]
  },
  {
   "cell_type": "code",
   "execution_count": 3,
   "metadata": {},
   "outputs": [],
   "source": [
    "const int NumberOfCurrentOrgs = 202;\n",
    "const int NumberOfAllOrgs = 1000;\n",
    "const double SuccessfulRequestsPercentage = 99.99;\n",
    "static int[] AverageNumberOfRequestsByOrgPerMonth = {1_000, 20_000, 40_000, 60_000, 100_000};"
   ]
  },
  {
   "cell_type": "markdown",
   "metadata": {},
   "source": [
    "Graphing helpers:"
   ]
  },
  {
   "cell_type": "code",
   "execution_count": 4,
   "metadata": {},
   "outputs": [],
   "source": [
    "// true - successful, false - failure\n",
    "static Func<bool> GetRequestStatus(Random r, double successProbability) => () =>  (double)r.Next(0, 100) + r.NextDouble() <= successProbability;\n",
    "private static readonly Random Rnd = new Random((int)DateTime.Now.Ticks);\n",
    "class Request\n",
    "{    \n",
    "    public int Org { get; set; }\n",
    "    public int Status { get; set; } // 1 - success, 0 - failure\n",
    "\n",
    "    protected bool Equals(Request other) => Org == other.Org && Status == other.Status;\n",
    "    public override bool Equals(object obj) => Equals((Request) obj);\n",
    "    public override int GetHashCode() => HashCode.Combine(Org, Status);\n",
    "}\n",
    "\n",
    "static IReadOnlyCollection<Request> MakeRequests(int orgId, int numberOfRequests)\n",
    "{   \n",
    "    var getStatus = GetRequestStatus(Rnd, SuccessfulRequestsPercentage);\n",
    "\n",
    "    var result = new HashSet<Request>();\n",
    "    for (int i = 0; i < numberOfRequests; i++)\n",
    "    {\n",
    "        result.Add(new Request {Org = orgId, Status = getStatus() ? 1 : 0});\n",
    "    }\n",
    "\n",
    "    return result;\n",
    "}\n"
   ]
  },
  {
   "cell_type": "code",
   "execution_count": 5,
   "metadata": {},
   "outputs": [],
   "source": [
    "using XPlot.Plotly;"
   ]
  },
  {
   "cell_type": "markdown",
   "metadata": {},
   "source": [
    "## Cost of one Org"
   ]
  },
  {
   "cell_type": "code",
   "execution_count": 6,
   "metadata": {},
   "outputs": [
    {
     "data": {
      "text/html": [
       "<div id=\"5a130465-ecab-4c55-b1f7-9397e38d183b\" style=\"width: 900px; height: 500px;\"></div>\r\n",
       "<script type=\"text/javascript\">\n",
       "\r\n",
       "var renderPlotly = function() {\r\n",
       "    var xplotRequire = requirejs.config({context:'xplot-3.0.1',paths:{plotly:'https://cdn.plot.ly/plotly-1.49.2.min'}});\r\n",
       "    xplotRequire(['plotly'], function(Plotly) {\n",
       "\n",
       "            var data = [{\"type\":\"bar\",\"x\":[1000,20000,40000,60000,100000],\"y\":[2,2,2,2,2],\"name\":\"Cost\"}];\n",
       "            var layout = {\"title\":\"Cost of a single organization\",\"xaxis\":{\"title\":\"Number of request per month\",\"_isSubplotObj\":true},\"yaxis\":{\"title\":\"Price, $\",\"_isSubplotObj\":true}};\n",
       "            Plotly.newPlot('5a130465-ecab-4c55-b1f7-9397e38d183b', data, layout);\n",
       "        \n",
       "});\r\n",
       "};\r\n",
       "if ((typeof(requirejs) !==  typeof(Function)) || (typeof(requirejs.config) !== typeof(Function))) { \r\n",
       "    var script = document.createElement(\"script\"); \r\n",
       "    script.setAttribute(\"src\", \"https://cdnjs.cloudflare.com/ajax/libs/require.js/2.3.6/require.min.js\"); \r\n",
       "    script.onload = function(){\r\n",
       "        renderPlotly();\r\n",
       "    };\r\n",
       "    document.getElementsByTagName(\"head\")[0].appendChild(script); \r\n",
       "}\r\n",
       "else {\r\n",
       "    renderPlotly();\r\n",
       "}\n",
       "</script>\n"
      ]
     },
     "metadata": {},
     "output_type": "display_data"
    }
   ],
   "source": [
    "var singleOrgCostPerCustomMetric = new Graph.Bar()\n",
    "{\n",
    "    x = AverageNumberOfRequestsByOrgPerMonth,\n",
    "    y = AverageNumberOfRequestsByOrgPerMonth.Select(requests => MakeRequests(1234, requests).Count),\n",
    "    name = $\"Cost\"\n",
    "};\n",
    "var singleOrgChart = Chart.Plot(new []{ singleOrgCostPerCustomMetric });\n",
    "singleOrgChart.WithLayout(new Layout.Layout\n",
    "{\n",
    "    title = \"Cost of a single organization\",\n",
    "    xaxis = new Graph.Xaxis{ title = \"Number of request per month\"},\n",
    "    yaxis = new Graph.Yaxis{ title = \"Price, $\"},\n",
    "\n",
    "});\n",
    "display(singleOrgChart);"
   ]
  },
  {
   "cell_type": "markdown",
   "metadata": {},
   "source": [
    "## Cost of multiple orgs\n",
    "*Might take half a minute of more to run the requests simulation, be patient*"
   ]
  },
  {
   "cell_type": "code",
   "execution_count": 7,
   "metadata": {},
   "outputs": [
    {
     "data": {
      "text/html": [
       "<div id=\"4bb39584-9224-446a-be26-a1f52ee030de\" style=\"width: 900px; height: 500px;\"></div>\r\n",
       "<script type=\"text/javascript\">\n",
       "\r\n",
       "var renderPlotly = function() {\r\n",
       "    var xplotRequire = requirejs.config({context:'xplot-3.0.1',paths:{plotly:'https://cdn.plot.ly/plotly-1.49.2.min'}});\r\n",
       "    xplotRequire(['plotly'], function(Plotly) {\n",
       "\n",
       "            var data = [{\"type\":\"bar\",\"x\":[1000,20000,40000,60000,100000],\"y\":[227,373,398,404,404],\"name\":\"Current number of orgs (202)\"},{\"type\":\"bar\",\"x\":[1000,20000,40000,60000,100000],\"y\":[1105,1862,1982,1997,2000],\"name\":\"All orgs (1000)\"}];\n",
       "            var layout = {\"title\":\"Cost of custom metrics\",\"xaxis\":{\"title\":\"Number of request per month\",\"_isSubplotObj\":true},\"yaxis\":{\"title\":\"Price, $\",\"_isSubplotObj\":true}};\n",
       "            Plotly.newPlot('4bb39584-9224-446a-be26-a1f52ee030de', data, layout);\n",
       "        \n",
       "});\r\n",
       "};\r\n",
       "if ((typeof(requirejs) !==  typeof(Function)) || (typeof(requirejs.config) !== typeof(Function))) { \r\n",
       "    var script = document.createElement(\"script\"); \r\n",
       "    script.setAttribute(\"src\", \"https://cdnjs.cloudflare.com/ajax/libs/require.js/2.3.6/require.min.js\"); \r\n",
       "    script.onload = function(){\r\n",
       "        renderPlotly();\r\n",
       "    };\r\n",
       "    document.getElementsByTagName(\"head\")[0].appendChild(script); \r\n",
       "}\r\n",
       "else {\r\n",
       "    renderPlotly();\r\n",
       "}\n",
       "</script>\n"
      ]
     },
     "metadata": {},
     "output_type": "display_data"
    }
   ],
   "source": [
    "var currentOrgs = Enumerable.Range(0, NumberOfCurrentOrgs).ToArray();\n",
    "var allOrgs = Enumerable.Range(0, NumberOfAllOrgs).ToArray();\n",
    "\n",
    "var currentOrgsCostPerCustomMetric = new Graph.Bar()\n",
    "{\n",
    "    x = AverageNumberOfRequestsByOrgPerMonth,\n",
    "    y = AverageNumberOfRequestsByOrgPerMonth.Select(requests => currentOrgs.Select(orgId => MakeRequests(orgId, requests).Count).Sum()),\n",
    "    name = $\"Current number of orgs ({NumberOfCurrentOrgs})\"\n",
    "};\n",
    "\n",
    "var allOrgsCostPerCustomMetric = new Graph.Bar()\n",
    "{\n",
    "    x = AverageNumberOfRequestsByOrgPerMonth,\n",
    "    y = AverageNumberOfRequestsByOrgPerMonth.Select(requests => allOrgs.Select(orgId => MakeRequests(orgId, requests).Count).Sum()),\n",
    "    name = $\"All orgs ({NumberOfAllOrgs})\"\n",
    "};\n",
    "\n",
    "var orgsChart = Chart.Plot(new []{ currentOrgsCostPerCustomMetric, allOrgsCostPerCustomMetric });\n",
    "orgsChart.WithLayout(new Layout.Layout\n",
    "{\n",
    "    title = \"Cost of custom metrics\",\n",
    "    xaxis = new Graph.Xaxis{ title = \"Number of request per month\"},\n",
    "    yaxis = new Graph.Yaxis{ title = \"Price, $\"},\n",
    "\n",
    "});\n",
    "display(orgsChart);"
   ]
  },
  {
   "cell_type": "code",
   "execution_count": null,
   "metadata": {},
   "outputs": [],
   "source": []
  }
 ],
 "metadata": {
  "kernelspec": {
   "display_name": ".NET (C#)",
   "language": "C#",
   "name": ".net-csharp"
  },
  "language_info": {
   "file_extension": ".cs",
   "mimetype": "text/x-csharp",
   "name": "C#",
   "pygments_lexer": "csharp",
   "version": "8.0"
  }
 },
 "nbformat": 4,
 "nbformat_minor": 4
}
