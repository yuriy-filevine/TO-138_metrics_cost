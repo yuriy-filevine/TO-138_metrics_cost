{
 "cells": [
  {
   "cell_type": "markdown",
   "metadata": {},
   "source": [
    "[Pricing information](https://aws.amazon.com/cloudwatch/pricing/):"
   ]
  },
  {
   "cell_type": "code",
   "execution_count": 116,
   "metadata": {},
   "outputs": [],
   "source": [
    "static readonly (int count, double price)[] tiersCosts = {(10_000, 0.3), (240_000, 0.1), (750_000, 0.05), (-1, 0.02)};"
   ]
  },
  {
   "cell_type": "markdown",
   "metadata": {},
   "source": [
    "Method to calculate prices:"
   ]
  },
  {
   "cell_type": "code",
   "execution_count": 117,
   "metadata": {},
   "outputs": [],
   "source": [
    "static double CalculateCustomMetricsPrice(int metricsCount) =>\n",
    "    tiersCosts.Aggregate((count: metricsCount, price: 0d), (total, tier) => {        \n",
    "        var tierCount = tier.count > 0 ? Math.Min(tier.count, total.count) : total.count;\n",
    "        return (total.count - tierCount, total.price += tierCount * tier.price);\n",
    "    }).price;"
   ]
  },
  {
   "cell_type": "markdown",
   "metadata": {},
   "source": [
    "## Modify this values to change graph:"
   ]
  },
  {
   "cell_type": "code",
   "execution_count": 118,
   "metadata": {},
   "outputs": [],
   "source": [
    "const int NumberOfEndpoints = 115; // current endpoints count as of 04/28/2020\n",
    "const int NumberOfUniqueEnpoints = 15;\n",
    "const int NumberOfCurrentOrgs = 202;\n",
    "const int NumberOfAllOrgs = 1000;\n",
    "const double SuccessfulRequestsPercentage = 99.99;\n",
    "static int[] AverageNumberOfRequestsByOrgPerMonth = {1_000, 20_000, 40_000, 60_000, 100_000};"
   ]
  },
  {
   "cell_type": "markdown",
   "metadata": {},
   "source": [
    "Graphing helpers:"
   ]
  },
  {
   "cell_type": "code",
   "execution_count": 119,
   "metadata": {},
   "outputs": [],
   "source": [
    "// true - successful, false - failure\n",
    "static Func<bool> GetRequestStatus(Random r, double successProbability) => () =>  (double)r.Next(0, 100) + r.NextDouble() <= successProbability;\n",
    "\n",
    "private static readonly int[] CommonEndpointIndexes = Enumerable.Range(0, NumberOfCommonEndpoints).ToArray(); \n",
    "private static readonly Random Rnd = new Random((int)DateTime.Now.Ticks);\n",
    "static readonly int NumberOfEndpoints = Endpoints.Length;\n",
    "static int[] GetOrgEndpoints()\n",
    "{\n",
    "    if(NumberOfEndpoints < (NumberOfCommonEndpoints + NumberOfUniqueEnpoints)) throw new Exception($\"{nameof(NumberOfEndpoints)} should be greater than {nameof(NumberOfCommonEndpoints)} + {nameof(NumberOfUniqueEnpoints)}\");\n",
    "    var result = new int[NumberOfCommonEndpoints + NumberOfUniqueEnpoints];\n",
    "    CommonEndpointIndexes.CopyTo(result, 0);\n",
    "    var unique = new HashSet<int>();\n",
    "    while (unique.Count < NumberOfUniqueEnpoints)\n",
    "    {\n",
    "        unique.Add(rnd.Next(NumberOfCommonEndpoints, NumberOfEndpoints));\n",
    "    }\n",
    "    unique.CopyTo(result, NumberOfCommonEndpoints);\n",
    "    return result;\n",
    "}\n",
    "\n",
    "class Request\n",
    "{\n",
    "    public int Endpoint { get; set; }\n",
    "    public int Org { get; set; }\n",
    "    public int Status { get; set; } // 1 - success, 0 - failure\n",
    "\n",
    "    protected bool Equals(Request other) => Endpoint == other.Endpoint && Org == other.Org && Status == other.Status;\n",
    "    public override bool Equals(object obj) => Equals((Request) obj);\n",
    "    public override int GetHashCode() => HashCode.Combine(Endpoint, Org, Status);\n",
    "}\n",
    "\n",
    "static IReadOnlyCollection<Request> MakeRequests(int orgId, int numberOfRequests)\n",
    "{\n",
    "    var enpoints = GetOrgEndpoints();\n",
    "    var endpointIndex = 0;\n",
    "    var getStatus = GetRequestStatus(Rnd, SuccessfulRequestsPercentage);\n",
    "\n",
    "    var result = new HashSet<Request>();\n",
    "    for (int i = 0; i < numberOfRequests; i++)\n",
    "    {\n",
    "        result.Add(new Request {Org = orgId, Endpoint = enpoints[endpointIndex], Status = getStatus() ? 1 : 0});\n",
    "        endpointIndex = endpointIndex + 1 == enpoints.Length ? 0 : endpointIndex + 1;\n",
    "    }\n",
    "\n",
    "    return result;\n",
    "}\n"
   ]
  },
  {
   "cell_type": "code",
   "execution_count": 120,
   "metadata": {},
   "outputs": [],
   "source": [
    "using XPlot.Plotly;"
   ]
  },
  {
   "cell_type": "markdown",
   "metadata": {},
   "source": [
    "## Cost of one Org"
   ]
  },
  {
   "cell_type": "code",
   "execution_count": 121,
   "metadata": {},
   "outputs": [
    {
     "data": {
      "text/html": [
       "<div id=\"2672307a-2c95-45b0-b627-19276c0e01b2\" style=\"width: 900px; height: 500px;\"></div>\r\n",
       "<script type=\"text/javascript\">\n",
       "\r\n",
       "var renderPlotly = function() {\r\n",
       "    var xplotRequire = requirejs.config({context:'xplot-3.0.1',paths:{plotly:'https://cdn.plot.ly/plotly-1.49.2.min'}});\r\n",
       "    xplotRequire(['plotly'], function(Plotly) {\n",
       "\n",
       "            var data = [{\"type\":\"bar\",\"x\":[1000,20000,40000,60000,100000],\"y\":[45,49,52,50,53],\"name\":\"Cost\"}];\n",
       "            var layout = {\"title\":\"Cost of a single organization\",\"xaxis\":{\"title\":\"Number of request per month\",\"_isSubplotObj\":true},\"yaxis\":{\"title\":\"Price, $\",\"_isSubplotObj\":true}};\n",
       "            Plotly.newPlot('2672307a-2c95-45b0-b627-19276c0e01b2', data, layout);\n",
       "        \n",
       "});\r\n",
       "};\r\n",
       "if ((typeof(requirejs) !==  typeof(Function)) || (typeof(requirejs.config) !== typeof(Function))) { \r\n",
       "    var script = document.createElement(\"script\"); \r\n",
       "    script.setAttribute(\"src\", \"https://cdnjs.cloudflare.com/ajax/libs/require.js/2.3.6/require.min.js\"); \r\n",
       "    script.onload = function(){\r\n",
       "        renderPlotly();\r\n",
       "    };\r\n",
       "    document.getElementsByTagName(\"head\")[0].appendChild(script); \r\n",
       "}\r\n",
       "else {\r\n",
       "    renderPlotly();\r\n",
       "}\n",
       "</script>\n"
      ]
     },
     "metadata": {},
     "output_type": "display_data"
    }
   ],
   "source": [
    "var singleOrgCostPerCustomMetric = new Graph.Bar()\n",
    "{\n",
    "    x = AverageNumberOfRequestsByOrgPerMonth,\n",
    "    y = AverageNumberOfRequestsByOrgPerMonth.Select(requests => MakeRequests(1234, requests).Count),\n",
    "    name = $\"Cost\"\n",
    "};\n",
    "var singleOrgChart = Chart.Plot(new []{ singleOrgCostPerCustomMetric });\n",
    "singleOrgChart.WithLayout(new Layout.Layout\n",
    "{\n",
    "    title = \"Cost of a single organization\",\n",
    "    xaxis = new Graph.Xaxis{ title = \"Number of request per month\"},\n",
    "    yaxis = new Graph.Yaxis{ title = \"Price, $\"},\n",
    "\n",
    "});\n",
    "display(singleOrgChart);"
   ]
  },
  {
   "cell_type": "markdown",
   "metadata": {},
   "source": [
    "## Cost of multiple orgs\n",
    "*Might take half a minute of more to run the requests simulation, be patient*"
   ]
  },
  {
   "cell_type": "code",
   "execution_count": 122,
   "metadata": {},
   "outputs": [
    {
     "data": {
      "text/html": [
       "<div id=\"4749ea35-d533-4100-99c5-26205bcf3d9a\" style=\"width: 900px; height: 500px;\"></div>\r\n",
       "<script type=\"text/javascript\">\n",
       "\r\n",
       "var renderPlotly = function() {\r\n",
       "    var xplotRequire = requirejs.config({context:'xplot-3.0.1',paths:{plotly:'https://cdn.plot.ly/plotly-1.49.2.min'}});\r\n",
       "    xplotRequire(['plotly'], function(Plotly) {\n",
       "\n",
       "            var data = [{\"type\":\"bar\",\"x\":[1000,20000,40000,60000,100000],\"y\":[9113,9508,9877,10244,10903],\"name\":\"Current number of orgs (202)\"},{\"type\":\"bar\",\"x\":[1000,20000,40000,60000,100000],\"y\":[45091,46995,48910,50688,54033],\"name\":\"All orgs (1000)\"}];\n",
       "            var layout = {\"title\":\"Cost of custom metrics\",\"xaxis\":{\"title\":\"Number of request per month\",\"_isSubplotObj\":true},\"yaxis\":{\"title\":\"Price, $\",\"_isSubplotObj\":true}};\n",
       "            Plotly.newPlot('4749ea35-d533-4100-99c5-26205bcf3d9a', data, layout);\n",
       "        \n",
       "});\r\n",
       "};\r\n",
       "if ((typeof(requirejs) !==  typeof(Function)) || (typeof(requirejs.config) !== typeof(Function))) { \r\n",
       "    var script = document.createElement(\"script\"); \r\n",
       "    script.setAttribute(\"src\", \"https://cdnjs.cloudflare.com/ajax/libs/require.js/2.3.6/require.min.js\"); \r\n",
       "    script.onload = function(){\r\n",
       "        renderPlotly();\r\n",
       "    };\r\n",
       "    document.getElementsByTagName(\"head\")[0].appendChild(script); \r\n",
       "}\r\n",
       "else {\r\n",
       "    renderPlotly();\r\n",
       "}\n",
       "</script>\n"
      ]
     },
     "metadata": {},
     "output_type": "display_data"
    }
   ],
   "source": [
    "var currentOrgs = Enumerable.Range(0, NumberOfCurrentOrgs).ToArray();\n",
    "var allOrgs = Enumerable.Range(0, NumberOfAllOrgs).ToArray();\n",
    "\n",
    "var currentOrgsCostPerCustomMetric = new Graph.Bar()\n",
    "{\n",
    "    x = AverageNumberOfRequestsByOrgPerMonth,\n",
    "    y = AverageNumberOfRequestsByOrgPerMonth.Select(requests => currentOrgs.Select(orgId => MakeRequests(orgId, requests).Count).Sum()),\n",
    "    name = $\"Current number of orgs ({NumberOfCurrentOrgs})\"\n",
    "};\n",
    "\n",
    "var allOrgsCostPerCustomMetric = new Graph.Bar()\n",
    "{\n",
    "    x = AverageNumberOfRequestsByOrgPerMonth,\n",
    "    y = AverageNumberOfRequestsByOrgPerMonth.Select(requests => allOrgs.Select(orgId => MakeRequests(orgId, requests).Count).Sum()),\n",
    "    name = $\"All orgs ({NumberOfAllOrgs})\"\n",
    "};\n",
    "\n",
    "var orgsChart = Chart.Plot(new []{ currentOrgsCostPerCustomMetric, allOrgsCostPerCustomMetric });\n",
    "orgsChart.WithLayout(new Layout.Layout\n",
    "{\n",
    "    title = \"Cost of custom metrics\",\n",
    "    xaxis = new Graph.Xaxis{ title = \"Number of request per month\"},\n",
    "    yaxis = new Graph.Yaxis{ title = \"Price, $\"},\n",
    "\n",
    "});\n",
    "display(orgsChart);"
   ]
  }
 ],
 "metadata": {
  "kernelspec": {
   "display_name": ".NET (C#)",
   "language": "C#",
   "name": ".net-csharp"
  },
  "language_info": {
   "file_extension": ".cs",
   "mimetype": "text/x-csharp",
   "name": "C#",
   "pygments_lexer": "csharp",
   "version": "8.0"
  }
 },
 "nbformat": 4,
 "nbformat_minor": 4
}
